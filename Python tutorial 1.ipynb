{
 "cells": [
  {
   "cell_type": "code",
   "execution_count": 8,
   "metadata": {},
   "outputs": [
    {
     "name": "stdout",
     "output_type": "stream",
     "text": [
      "Good night!\n",
      "I am here.\n"
     ]
    }
   ],
   "source": [
    "# Result of a simple if, when resut prove true \n",
    "\n",
    "sun = \"down\"\n",
    "if sun == \"down\":\n",
    "    print(\"Good night!\")\n",
    "print(\"I am here.\") \n"
   ]
  },
  {
   "cell_type": "code",
   "execution_count": 9,
   "metadata": {},
   "outputs": [
    {
     "name": "stdout",
     "output_type": "stream",
     "text": [
      "I am here.\n"
     ]
    }
   ],
   "source": [
    "# Result of a simple if, when resut prove false\n",
    "\n",
    "sun = \"up\"\n",
    "if sun == \"down\":\n",
    "    print(\"Good night!\")\n",
    "print(\"I am here.\")"
   ]
  },
  {
   "cell_type": "code",
   "execution_count": 16,
   "metadata": {},
   "outputs": [
    {
     "name": "stdout",
     "output_type": "stream",
     "text": [
      "Subtotal    : $100.00\n",
      "Sales Tax   : $6.50\n",
      "Total Total : $106.50\n"
     ]
    }
   ],
   "source": [
    "# If condition with many lines of code under indentation and unindented code\n",
    "\n",
    "total = 100\n",
    "sales_tax_rate = 0.065\n",
    "taxable = True\n",
    "\n",
    "if taxable:\n",
    "    print(f\"Subtotal    : ${total:.2f}\")\n",
    "    sales_tax = total * sales_tax_rate\n",
    "    print(f\"Sales Tax   : ${sales_tax:.2f}\")\n",
    "    total_tax = total + sales_tax\n",
    "print(f\"Total Total : ${total_tax:.2f}\")"
   ]
  },
  {
   "cell_type": "code",
   "execution_count": 17,
   "metadata": {},
   "outputs": [
    {
     "name": "stdout",
     "output_type": "stream",
     "text": [
      "Total Total : $106.50\n"
     ]
    }
   ],
   "source": [
    "# If condition that output unindented code\n",
    "\n",
    "total = 100\n",
    "sales_tax_rate = 0.065\n",
    "taxable = False\n",
    "\n",
    "if taxable:\n",
    "    print(f\"Subtotal    : ${total:.2f}\")\n",
    "    sales_tax = total * sales_tax_rate\n",
    "    print(f\"Sales Tax   : ${sales_tax:.2f}\")\n",
    "    total_tax = total + sales_tax\n",
    "print(f\"Total Total : ${total_tax:.2f}\")"
   ]
  },
  {
   "cell_type": "code",
   "execution_count": 18,
   "metadata": {},
   "outputs": [],
   "source": [
    "# Print initial greeting based on time paiting if with else condition"
   ]
  },
  {
   "cell_type": "code",
   "execution_count": 20,
   "metadata": {},
   "outputs": [
    {
     "name": "stdout",
     "output_type": "stream",
     "text": [
      "Good morning\n",
      "I hope that you are doing well\n"
     ]
    }
   ],
   "source": [
    "# import time module\n",
    "import datetime as dt\n",
    "# define current date and time in a variable call now\n",
    "now = dt.datetime.now()\n",
    "# Make a decision based on hour\n",
    "if now.hour < 12:\n",
    "    print(\"Good morning\")\n",
    "else:\n",
    "    print(\"Good evening\")\n",
    "    \n",
    "print(\"I hope that you are doing well\")"
   ]
  },
  {
   "cell_type": "code",
   "execution_count": 21,
   "metadata": {},
   "outputs": [],
   "source": [
    "# Giving order to computer with many option that is beyond if and else condition cover, i.e. else condition inclusive"
   ]
  },
  {
   "cell_type": "code",
   "execution_count": 22,
   "metadata": {},
   "outputs": [
    {
     "name": "stdout",
     "output_type": "stream",
     "text": [
      "Go!\n",
      "This code execute no matter what.\n"
     ]
    }
   ],
   "source": [
    "# Give a light a color type and give condition for executuion\n",
    "light_color = \"green\"\n",
    "if light_color == \"green\":\n",
    "    print(\"Go!\")\n",
    "elif light_color == \"red!\":\n",
    "    print(\"Stop!\")\n",
    "elif light_color == \"yellow\":\n",
    "    print(\"Move with caution!\")\n",
    "print(\"This code execute no matter what.\")\n"
   ]
  },
  {
   "cell_type": "code",
   "execution_count": 24,
   "metadata": {},
   "outputs": [
    {
     "name": "stdout",
     "output_type": "stream",
     "text": [
      "Stop!\n",
      "This code execute no matter what.\n"
     ]
    }
   ],
   "source": [
    "# Give a light a color type and give condition for executuion\n",
    "light_color = \"red\"\n",
    "if light_color == \"green\":\n",
    "    print(\"Go!\")\n",
    "elif light_color == \"red\":\n",
    "    print(\"Stop!\")\n",
    "elif light_color == \"yellow\":\n",
    "    print(\"Move with caution!\")\n",
    "print(\"This code execute no matter what.\")\n"
   ]
  },
  {
   "cell_type": "code",
   "execution_count": 25,
   "metadata": {},
   "outputs": [
    {
     "name": "stdout",
     "output_type": "stream",
     "text": [
      "Move with caution!\n",
      "This code execute no matter what.\n"
     ]
    }
   ],
   "source": [
    "# Give a light a color type and give condition for executuion\n",
    "light_color = \"yellow\"\n",
    "if light_color == \"green\":\n",
    "    print(\"Go!\")\n",
    "elif light_color == \"red!\":\n",
    "    print(\"Stop!\")\n",
    "elif light_color == \"yellow\":\n",
    "    print(\"Move with caution!\")\n",
    "print(\"This code execute no matter what.\")\n"
   ]
  },
  {
   "cell_type": "code",
   "execution_count": null,
   "metadata": {},
   "outputs": [],
   "source": [
    "# Tenary Operation with the implementation of if, elif, else conditions"
   ]
  },
  {
   "cell_type": "code",
   "execution_count": 6,
   "metadata": {},
   "outputs": [
    {
     "name": "stdout",
     "output_type": "stream",
     "text": [
      "Have a : Milk\n"
     ]
    }
   ],
   "source": [
    "# define a variable as age and pass (assign) a value to it\n",
    "age = 19\n",
    "# Give condition for different beverage type\n",
    "if age < 21:\n",
    "    # If under 21, no alcohol\n",
    "    beverage = \"Milk\"\n",
    "elif age >= 21 and age < 80:\n",
    "    # Ages 21 - 79 suggest beer\n",
    "    beverage = \"beer\"\n",
    "else:\n",
    "    # if 80 and above prune juice might be a good choice\n",
    "    beverage = \"prune juice\"\n",
    "\n",
    "print(\"Have a : \"+ beverage)"
   ]
  },
  {
   "cell_type": "code",
   "execution_count": 7,
   "metadata": {},
   "outputs": [
    {
     "name": "stdout",
     "output_type": "stream",
     "text": [
      "Have a : beer\n"
     ]
    }
   ],
   "source": [
    "# define a variable as age and pass (assign) a value to it\n",
    "age = 31\n",
    "# Give condition for different beverage type\n",
    "if age < 21:\n",
    "    # If under 21, no alcohol\n",
    "    beverage = \"Milk\"\n",
    "elif age >= 21 and age < 80:\n",
    "    # Ages 21 - 79 suggest beer\n",
    "    beverage = \"beer\"\n",
    "else:\n",
    "    # if 80 and above prune juice might be a good choice\n",
    "    beverage = \"prune juice\"\n",
    "\n",
    "print(\"Have a : \"+ beverage)"
   ]
  },
  {
   "cell_type": "code",
   "execution_count": 8,
   "metadata": {},
   "outputs": [
    {
     "name": "stdout",
     "output_type": "stream",
     "text": [
      "Have a : prune juice\n"
     ]
    }
   ],
   "source": [
    "# define a variable as age and pass (assign) a value to it\n",
    "age = 91\n",
    "# Give condition for different beverage type\n",
    "if age < 21:\n",
    "    # If under 21, no alcohol\n",
    "    beverage = \"Milk\"\n",
    "elif age >= 21 and age < 80:\n",
    "    # Ages 21 - 79 suggest beer\n",
    "    beverage = \"beer\"\n",
    "else:\n",
    "    # if 80 and above prune juice might be a good choice\n",
    "    beverage = \"prune juice\"\n",
    "\n",
    "print(\"Have a : \"+ beverage)"
   ]
  },
  {
   "cell_type": "code",
   "execution_count": 12,
   "metadata": {},
   "outputs": [
    {
     "name": "stdout",
     "output_type": "stream",
     "text": [
      "0\n",
      "1\n",
      "2\n",
      "3\n",
      "4\n",
      "5\n",
      "6\n"
     ]
    }
   ],
   "source": [
    "# Using another control command to execute repeated process using for loop\n",
    "\n",
    "# Looping through number in a range\n",
    "\n",
    "for x in range(7):\n",
    "    print(x)\n",
    "# print(\"All done\")"
   ]
  },
  {
   "cell_type": "code",
   "execution_count": 14,
   "metadata": {},
   "outputs": [
    {
     "name": "stdout",
     "output_type": "stream",
     "text": [
      "0\n",
      "All done\n",
      "1\n",
      "All done\n",
      "2\n",
      "All done\n",
      "3\n",
      "All done\n",
      "4\n",
      "All done\n",
      "5\n",
      "All done\n",
      "6\n",
      "All done\n"
     ]
    }
   ],
   "source": [
    "for x in range(7):\n",
    "    print(x)\n",
    "    # print \"All done under each line of output\"\n",
    "    print(\"All done\")"
   ]
  },
  {
   "cell_type": "code",
   "execution_count": 15,
   "metadata": {},
   "outputs": [
    {
     "name": "stdout",
     "output_type": "stream",
     "text": [
      "0\n",
      "1\n",
      "2\n",
      "3\n",
      "4\n",
      "5\n",
      "6\n",
      "All done\n"
     ]
    }
   ],
   "source": [
    "for x in range(7):\n",
    "    print(x)\n",
    "print(\"All done\")"
   ]
  },
  {
   "cell_type": "code",
   "execution_count": 16,
   "metadata": {},
   "outputs": [
    {
     "name": "stdout",
     "output_type": "stream",
     "text": [
      "1\n",
      "2\n",
      "3\n",
      "4\n",
      "5\n",
      "6\n",
      "7\n",
      "8\n",
      "9\n",
      "All done\n"
     ]
    }
   ],
   "source": [
    "# Looping through number with specified start and end number\n",
    "for x in range(1, 10):\n",
    "    print(x)\n",
    "print(\"All done\")  "
   ]
  },
  {
   "cell_type": "code",
   "execution_count": 17,
   "metadata": {},
   "outputs": [
    {
     "name": "stdout",
     "output_type": "stream",
     "text": [
      "F\n",
      "o\n",
      "l\n",
      "a\n",
      "k\n",
      "e\n",
      "Done\n"
     ]
    }
   ],
   "source": [
    "# Loop through a string\n",
    "for x in \"Folake\":\n",
    "    print(x)\n",
    "print(\"Done\")"
   ]
  },
  {
   "cell_type": "code",
   "execution_count": 18,
   "metadata": {},
   "outputs": [
    {
     "name": "stdout",
     "output_type": "stream",
     "text": [
      "F\n",
      "o\n",
      "l\n",
      "a\n",
      "k\n",
      "e\n",
      "Done\n"
     ]
    }
   ],
   "source": [
    "oruko = \"Folake\"\n",
    "for d in oruko:\n",
    "    print(d)\n",
    "print(\"Done\")"
   ]
  },
  {
   "cell_type": "code",
   "execution_count": 19,
   "metadata": {},
   "outputs": [
    {
     "name": "stdout",
     "output_type": "stream",
     "text": [
      "The\n",
      "rain\n",
      "in\n",
      "Spain\n",
      "Done\n"
     ]
    }
   ],
   "source": [
    "# Looping through a list\n",
    "for word in [\"The\", \"rain\", \"in\", \"Spain\"]:\n",
    "    print(word)\n",
    "print(\"Done\")"
   ]
  },
  {
   "cell_type": "code",
   "execution_count": 27,
   "metadata": {},
   "outputs": [
    {
     "name": "stdout",
     "output_type": "stream",
     "text": [
      "Happy\n",
      "Grumpy\n",
      "Sleepy\n",
      "Bashful\n",
      "Doc\n",
      "Dopey\n",
      "Done\n"
     ]
    }
   ],
   "source": [
    "# Also it can be looped through a list saved in container or variable\n",
    "seven_dwarves = [\"Happy\", \"Grumpy\", \"Sleepy\", \"Bashful\", \"Doc\", \"Dopey\"]\n",
    "for word in seven_dwarves:\n",
    "    print(word)\n",
    "print(\"Done!\")"
   ]
  },
  {
   "cell_type": "code",
   "execution_count": 1,
   "metadata": {},
   "outputs": [
    {
     "name": "stdout",
     "output_type": "stream",
     "text": [
      "A\n",
      "B\n",
      "C\n",
      "D\n",
      "Loop is done\n"
     ]
    }
   ],
   "source": [
    "# Another dimensions to loop through a list using if, for some condition and break\n",
    "ans = [\"A\", \"B\", \"C\", \"D\"]\n",
    "for an in ans:\n",
    "    if an == \"\":\n",
    "        print(\"Incomplete\")\n",
    "        break\n",
    "    print(an)\n",
    "print(\"Loop is done\")"
   ]
  },
  {
   "cell_type": "code",
   "execution_count": 10,
   "metadata": {},
   "outputs": [
    {
     "name": "stdout",
     "output_type": "stream",
     "text": [
      "Incomplete\n",
      "Loop is done\n"
     ]
    }
   ],
   "source": [
    "# Another dimensions to loop through a list using if, for some condition and break\n",
    "ans = [\"\", \"B\", \"\", \"D\"]\n",
    "for an in ans:\n",
    "    if an == \"\":\n",
    "        print(\"Incomplete\")\n",
    "        break\n",
    "    print(an)\n",
    "print(\"Loop is done\")"
   ]
  },
  {
   "cell_type": "code",
   "execution_count": 12,
   "metadata": {},
   "outputs": [
    {
     "name": "stdout",
     "output_type": "stream",
     "text": [
      "A\n",
      "Incomplete\n",
      "\n",
      "C\n",
      "Incomplete\n",
      "\n",
      "Loop is done\n"
     ]
    }
   ],
   "source": [
    "# Another dimensions to loop through a list using if, for some condition and break\n",
    "ans = [\"A\", \"\", \"C\", \"\"]\n",
    "for an in ans:\n",
    "    if an == \"\":\n",
    "        print(\"Incomplete\")\n",
    "    print(an)\n",
    "print(\"Loop is done\")"
   ]
  },
  {
   "cell_type": "code",
   "execution_count": 13,
   "metadata": {},
   "outputs": [
    {
     "name": "stdout",
     "output_type": "stream",
     "text": [
      "A\n",
      "B\n",
      "C\n",
      "Incomplete\n",
      "Loop is done\n"
     ]
    }
   ],
   "source": [
    "# Another dimensions to loop through a list using if, for some condition and break\n",
    "ans = [\"A\", \"B\", \"C\", \"\"]\n",
    "for an in ans:\n",
    "    if an == \"\":\n",
    "        print(\"Incomplete\")\n",
    "        break\n",
    "    print(an)\n",
    "print(\"Loop is done\")"
   ]
  },
  {
   "cell_type": "code",
   "execution_count": 14,
   "metadata": {},
   "outputs": [
    {
     "name": "stdout",
     "output_type": "stream",
     "text": [
      "A\n",
      "Incomplete\n",
      "C\n",
      "D\n",
      "Loop is done\n"
     ]
    }
   ],
   "source": [
    "# Another dimensions to loop through a list using if, for some condition and continue\n",
    "ans = [\"A\", \"\", \"C\", \"D\"]\n",
    "for an in ans:\n",
    "    if an == \"\":\n",
    "        print(\"Incomplete\")\n",
    "        continue\n",
    "    print(an)\n",
    "print(\"Loop is done\")"
   ]
  },
  {
   "cell_type": "code",
   "execution_count": 15,
   "metadata": {},
   "outputs": [
    {
     "name": "stdout",
     "output_type": "stream",
     "text": [
      "A\n",
      "B\n",
      "Incomplete\n",
      "D\n",
      "Loop is done\n"
     ]
    }
   ],
   "source": [
    "# Another dimensions to loop through a list using if, for some condition and continue\n",
    "ans = [\"A\", \"B\", \"\", \"D\"]\n",
    "for an in ans:\n",
    "    if an == \"\":\n",
    "        print(\"Incomplete\")\n",
    "        continue\n",
    "    print(an)\n",
    "print(\"Loop is done\")"
   ]
  },
  {
   "cell_type": "code",
   "execution_count": 16,
   "metadata": {},
   "outputs": [
    {
     "name": "stdout",
     "output_type": "stream",
     "text": [
      "Incomplete\n",
      "Incomplete\n",
      "C\n",
      "D\n",
      "Loop is done\n"
     ]
    }
   ],
   "source": [
    "# Another dimensions to loop through a list using if, for some condition and continue\n",
    "ans = [\"\", \"\", \"C\", \"D\"]\n",
    "for an in ans:\n",
    "    if an == \"\":\n",
    "        print(\"Incomplete\")\n",
    "        continue\n",
    "    print(an)\n",
    "print(\"Loop is done\")"
   ]
  },
  {
   "cell_type": "code",
   "execution_count": 17,
   "metadata": {},
   "outputs": [
    {
     "name": "stdout",
     "output_type": "stream",
     "text": [
      "First\n",
      "1\n",
      "2\n",
      "3\n",
      "Second\n",
      "1\n",
      "2\n",
      "3\n",
      "Third\n",
      "1\n",
      "2\n",
      "3\n",
      "Both loops are done\n"
     ]
    }
   ],
   "source": [
    "# Loop with nesting\n",
    "# Outer loop\n",
    "for outer in [\"First\", \"Second\", \"Third\"]:\n",
    "    print(outer)\n",
    "    # Inner loop\n",
    "    for inner in range(3):\n",
    "        print(inner + 1)\n",
    "\n",
    "print(\"Both loops are done\")\n"
   ]
  },
  {
   "cell_type": "code",
   "execution_count": 21,
   "metadata": {},
   "outputs": [
    {
     "name": "stdout",
     "output_type": "stream",
     "text": [
      "65=A\n",
      "66=B\n",
      "67=C\n",
      "68=D\n",
      "69=E\n",
      "70=F\n",
      "71=G\n",
      "72=H\n",
      "73=I\n",
      "74=J\n",
      "75=K\n",
      "76=L\n",
      "77=M\n",
      "78=N\n",
      "79=O\n",
      "80=P\n",
      "81=Q\n",
      "82=R\n",
      "83=S\n",
      "84=T\n",
      "85=U\n",
      "86=V\n",
      "87=W\n",
      "88=X\n",
      "89=Y\n",
      "90=Z\n",
      "All done\n"
     ]
    }
   ],
   "source": [
    "# Looping with while keyword\n",
    "counter = 65\n",
    "while counter < 91:\n",
    "    print(str(counter) + \"=\" + chr(counter))\n",
    "    counter += 1\n",
    "print(\"All done\")  "
   ]
  },
  {
   "cell_type": "code",
   "execution_count": 22,
   "metadata": {},
   "outputs": [
    {
     "name": "stdout",
     "output_type": "stream",
     "text": [
      "65\n",
      "66\n",
      "67\n",
      "68\n",
      "69\n",
      "70\n",
      "71\n",
      "72\n",
      "73\n",
      "74\n",
      "75\n",
      "76\n",
      "77\n",
      "78\n",
      "79\n",
      "80\n",
      "81\n",
      "82\n",
      "83\n",
      "84\n",
      "85\n",
      "86\n",
      "87\n",
      "88\n",
      "89\n",
      "90\n",
      "All done\n"
     ]
    }
   ],
   "source": [
    "# Looping with while keyword\n",
    "counter = 65\n",
    "while counter < 91:\n",
    "    print(counter)\n",
    "    counter += 1\n",
    "print(\"All done\")  "
   ]
  },
  {
   "cell_type": "code",
   "execution_count": 30,
   "metadata": {},
   "outputs": [
    {
     "name": "stdout",
     "output_type": "stream",
     "text": [
      "Odd numbers\n",
      "755\n",
      "917\n",
      "247\n",
      "281\n",
      "145\n",
      "983\n",
      "175\n",
      "929\n",
      "3\n",
      "613\n",
      "Loop is done\n"
     ]
    }
   ],
   "source": [
    "# Using while loop with continue\n",
    "import random\n",
    "\n",
    "print(\"Odd numbers\")\n",
    "counter = 0\n",
    "while counter < 10:\n",
    "    # Get a random number\n",
    "    number = random.randint(1, 999)\n",
    "    if int(number / 2) == number/2:\n",
    "        # If it's an even number, don't print it.\n",
    "        continue\n",
    "    # Otherwise, if it is odd, print it and increment the counter.\n",
    "    print(number)\n",
    "    counter += 1\n",
    "print(\"Loop is done\")"
   ]
  },
  {
   "cell_type": "code",
   "execution_count": 29,
   "metadata": {},
   "outputs": [
    {
     "name": "stdout",
     "output_type": "stream",
     "text": [
      "Numbers that aren't evenly divisible by 5\n",
      "981\n",
      "33\n",
      "89\n",
      "217\n",
      "267\n",
      "266\n",
      "712\n",
      "Loop is done\n"
     ]
    }
   ],
   "source": [
    "# Using while loop with continue\n",
    "import random\n",
    "\n",
    "print(\"Numbers that aren't evenly divisible by 5\")\n",
    "counter = 0\n",
    "while counter < 10:\n",
    "    # Get a random number\n",
    "    number = random.randint(1, 999)\n",
    "    if int(number / 5) == number/5:\n",
    "        # If it's evenly divisible by 5, bail out.\n",
    "        break\n",
    "    # Otherwise, print it and keep going for a while.\n",
    "    print(number)\n",
    "    # Increment the loop counter\n",
    "    counter += 1\n",
    "print(\"Loop is done\")"
   ]
  },
  {
   "cell_type": "code",
   "execution_count": null,
   "metadata": {},
   "outputs": [],
   "source": []
  }
 ],
 "metadata": {
  "kernelspec": {
   "display_name": "Python 3",
   "language": "python",
   "name": "python3"
  },
  "language_info": {
   "codemirror_mode": {
    "name": "ipython",
    "version": 3
   },
   "file_extension": ".py",
   "mimetype": "text/x-python",
   "name": "python",
   "nbconvert_exporter": "python",
   "pygments_lexer": "ipython3",
   "version": "3.7.6"
  }
 },
 "nbformat": 4,
 "nbformat_minor": 4
}
